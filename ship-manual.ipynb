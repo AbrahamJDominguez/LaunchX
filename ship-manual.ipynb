{
 "cells": [
  {
   "cell_type": "code",
   "execution_count": 58,
   "metadata": {},
   "outputs": [],
   "source": [
    "import ipywidgets as widgets\n",
    "ignition=widgets.ToggleButton(\n",
    "    value=False,\n",
    "    description=\"Iniciar lanzamiento\",\n",
    "    button_style=\"success\",\n",
    "    tooltip=\"Agárrese\",\n",
    "    icon=\"rocket\"\n",
    ")\n",
    "\n",
    "salida=widgets.Output()\n",
    "display(ignition, salida)\n",
    "\n",
    "def on_value_change(change):\n",
    "    with salida:\n",
    "        if change['new']==True:\n",
    "            print(\"Lanzamiento exitoso\")\n",
    "        else:\n",
    "            print(\"Freno pulsado\")\n",
    "\n",
    "ignition.observe(on_value_change, names=\"value\")"
   ]
  },
  {
   "cell_type": "code",
   "execution_count": 10,
   "metadata": {},
   "outputs": [
    {
     "name": "stdout",
     "output_type": "stream",
     "text": [
      "Defaulting to user installation because normal site-packages is not writeable\n",
      "Requirement already satisfied: matplotlib in c:\\users\\abrah\\appdata\\roaming\\python\\python39\\site-packages (3.4.3)\n",
      "Requirement already satisfied: pyparsing>=2.2.1 in c:\\users\\abrah\\appdata\\roaming\\python\\python39\\site-packages (from matplotlib) (2.4.7)\n",
      "Requirement already satisfied: cycler>=0.10 in c:\\users\\abrah\\appdata\\roaming\\python\\python39\\site-packages (from matplotlib) (0.10.0)\n",
      "Requirement already satisfied: kiwisolver>=1.0.1 in c:\\users\\abrah\\appdata\\roaming\\python\\python39\\site-packages (from matplotlib) (1.3.2)\n",
      "Requirement already satisfied: pillow>=6.2.0 in c:\\users\\abrah\\appdata\\roaming\\python\\python39\\site-packages (from matplotlib) (8.3.1)\n",
      "Requirement already satisfied: python-dateutil>=2.7 in c:\\users\\abrah\\appdata\\roaming\\python\\python39\\site-packages (from matplotlib) (2.8.2)\n",
      "Requirement already satisfied: numpy>=1.16 in c:\\users\\abrah\\appdata\\roaming\\python\\python39\\site-packages (from matplotlib) (1.21.2)\n",
      "Requirement already satisfied: six in c:\\users\\abrah\\appdata\\roaming\\python\\python39\\site-packages (from cycler>=0.10->matplotlib) (1.16.0)\n",
      "Note: you may need to restart the kernel to use updated packages.\n",
      "Defaulting to user installation because normal site-packages is not writeable\n",
      "Requirement already satisfied: numpy in c:\\users\\abrah\\appdata\\roaming\\python\\python39\\site-packages (1.21.2)\n",
      "Note: you may need to restart the kernel to use updated packages.\n"
     ]
    }
   ],
   "source": [
    "%pip install matplotlib\n",
    "%pip install numpy\n"
   ]
  },
  {
   "cell_type": "markdown",
   "metadata": {},
   "source": [
    "#Niveles de oxígeno\n",
    "Muestra diez minutos de niveles de oxígeno en tu nave"
   ]
  },
  {
   "cell_type": "code",
   "execution_count": 13,
   "metadata": {},
   "outputs": [
    {
     "data": {
      "image/png": "[encoded data removed]",
      "text/plain": [
       "<Figure size 432x288 with 1 Axes>"
      ]
     },
     "metadata": {
      "needs_background": "light"
     },
     "output_type": "display_data"
    }
   ],
   "source": [
    "import numpy as np\n",
    "import matplotlib.pyplot as plt\n",
    "\n",
    "datos=np.random.default_rng(12345)\n",
    "niveleso2=datos.integers(low=0, high= 10, size = 10)\n",
    "\n",
    "plt.bar(range(len(niveleso2)), niveleso2)\n",
    "\n",
    "plt.show()"
   ]
  },
  {
   "cell_type": "markdown",
   "metadata": {},
   "source": [
    "## Velocidad de la nave\n",
    "\n",
    "Muestra los segundos necesarios para pasar de 0 a 11200 metros por segundo, dada la aceleración de la nave en metros por segundo."
   ]
  },
  {
   "cell_type": "code",
   "execution_count": 14,
   "metadata": {},
   "outputs": [
    {
     "name": "stdout",
     "output_type": "stream",
     "text": [
      "Tiempo para alcanzar la velocidad deseada:  1142.8571428571427\n"
     ]
    }
   ],
   "source": [
    "velocidadf=11200\n",
    "velocidadi=0\n",
    "aceleracion=9.8\n",
    "\n",
    "tiempo=(velocidadf-velocidadi)/aceleracion\n",
    "print(\"Tiempo para alcanzar la velocidad deseada: \",tiempo)"
   ]
  },
  {
   "cell_type": "markdown",
   "metadata": {},
   "source": [
    "#KATA 1 \\n\n",
    "Primeros pasos"
   ]
  },
  {
   "cell_type": "code",
   "execution_count": 15,
   "metadata": {},
   "outputs": [
    {
     "name": "stdout",
     "output_type": "stream",
     "text": [
      "La fecha de hoy es:  2022-02-07\n"
     ]
    }
   ],
   "source": [
    "from datetime import date\n",
    "\n",
    "print(\"La fecha de hoy es: \", date.today())"
   ]
  },
  {
   "cell_type": "code",
   "execution_count": 21,
   "metadata": {},
   "outputs": [
    {
     "name": "stdout",
     "output_type": "stream",
     "text": [
      "2  parsec es  6.52312  años luz\n"
     ]
    }
   ],
   "source": [
    "parsec = 2\n",
    "\n",
    "anio_luz = parsec*3.26156\n",
    "\n",
    "print(parsec, \" parsec es \" , anio_luz , \" años luz\")\n",
    "\n"
   ]
  },
  {
   "cell_type": "markdown",
   "metadata": {},
   "source": [
    "#KATA 2\n",
    "\n",
    "Creación de entorno virtual exitosa, sólo funcionó con powershell"
   ]
  },
  {
   "cell_type": "markdown",
   "metadata": {},
   "source": [
    "#KATA 3\n",
    "\n",
    "Uso de operadores lógicos\n"
   ]
  },
  {
   "cell_type": "code",
   "execution_count": 5,
   "metadata": {},
   "outputs": [
    {
     "name": "stdout",
     "output_type": "stream",
     "text": [
      "¡Ahhhh, un asteroide!\n",
      "Esto no es un simulacro\n"
     ]
    }
   ],
   "source": [
    "# Añadir el código necesario para crear una variable que guarde la velocidad del asteroide.\n",
    "# Escribe una expresión de prueba para calcular si necesita una advertencia.\n",
    "# Agregue las instrucciones que se ejecutarán si la expresión de prueba es true o false.\n",
    "\n",
    "\n",
    "vel_a=49 #km/s\n",
    "vel_pel=25 #km/s\n",
    "\n",
    "print(\"¡Ahhhh, un asteroide!\")\n",
    "if(vel_a>vel_pel):\n",
    "    print(\"Esto no es un simulacro\")\n",
    "else:\n",
    "    print(\"Falsa alarma, perdón\")\n",
    "\n"
   ]
  },
  {
   "cell_type": "code",
   "execution_count": 14,
   "metadata": {},
   "outputs": [
    {
     "name": "stdout",
     "output_type": "stream",
     "text": [
      "No se ve nada en el cielo\n"
     ]
    }
   ],
   "source": [
    "# Agrega el código para crear una variable para un asteroide que viaja a 19 km/s\n",
    "# Escribe varias expresiones de prueba para determinar si puedes ver el rayo de luz desde la tierra\n",
    "# Agrega las instrucciones que se ejecutarán si las expresiones de prueba son True o False\n",
    "\n",
    "vel_a2=19 #km/s\n",
    "vel_obs=20 #km/s\n",
    "\n",
    "\n",
    "\n",
    "if(vel_a2>=vel_obs):\n",
    "    print(\"Que bonita luz en el cielo\")\n",
    "#if(vel_a2>=vel_obs):\n",
    "#    print(\"Que bonita luz en el cielo\")\n",
    "#Se puede separar en:\n",
    "#if(vel_a2>vel_obs):\n",
    "#    print(\"Que bonita luz en el cielo\")\n",
    "#elif(vel_a2==vel_obs):\n",
    "#    print(\"Que bonita luz en el cielo\")\n",
    "else:\n",
    "    print(\"No se ve nada en el cielo\")"
   ]
  },
  {
   "cell_type": "code",
   "execution_count": 15,
   "metadata": {},
   "outputs": [
    {
     "name": "stdout",
     "output_type": "stream",
     "text": [
      "Que bonita luz\n"
     ]
    }
   ],
   "source": [
    "# Agrega el código para crear nuevas variables para la velocidad y el tamaño del asteroide\n",
    "# Para probar el código, prueba con varias velocidades y tamaños\n",
    "# Escribe varias expresiones de prueba o combinaciones de expresiones de prueba para determinar qué mensaje se debe enviar a Tierra.\n",
    "\n",
    "vel_ac=26\n",
    "tam_ac=19\n",
    "\n",
    "tam_pel=25\n",
    "\n",
    "if(vel_ac >vel_pel and tam_ac > tam_pel):\n",
    "    print(\"Peligro, asteroide peligroso\")\n",
    "elif(vel_ac >vel_pel and tam_ac == tam_pel):\n",
    "    print(\"Atentos, no sabemos si se va a quemar\") \n",
    "elif(tam_ac>=tam_pel):\n",
    "    print(\"Ese asteroide podría causar muchos daños\")\n",
    "elif(vel_ac>=vel_obs):\n",
    "    print(\"Que bonita luz\")\n",
    "else:\n",
    "    print(\"Oye ¿Para qué estamos viendo al cielo?\")   "
   ]
  },
  {
   "cell_type": "markdown",
   "metadata": {},
   "source": [
    "#KATA 4\n",
    "Cadenas"
   ]
  },
  {
   "cell_type": "code",
   "execution_count": 33,
   "metadata": {},
   "outputs": [],
   "source": [
    "text = \"\"\"Interesting facts about the Moon. The Moon is Earth's only satellite. There are several interesting facts about the Moon and how it affects life here on Earth. On average, the Moon moves 4cm away from the Earth every year. This yearly drift is not significant enough to cause immediate effects on Earth. \n",
    "The highest daylight temperature of the Moon is 127 C.\"\"\""
   ]
  },
  {
   "cell_type": "code",
   "execution_count": 36,
   "metadata": {},
   "outputs": [
    {
     "name": "stdout",
     "output_type": "stream",
     "text": [
      " On average, the Moon moves 4cm away from the Earth every year\n",
      " \n",
      "The highest daylight temperature of the Moon is 127 C\n"
     ]
    }
   ],
   "source": [
    "text2=text.split(\".\")\n",
    "palabras_clave=[\"average\",\"temperature\",\"distance\"]\n",
    "\n",
    "for oracion in text2 :\n",
    "    for palabra in palabras_clave:\n",
    "        if palabra in oracion:\n",
    "            print(oracion)\n",
    "\n"
   ]
  },
  {
   "cell_type": "code",
   "execution_count": 43,
   "metadata": {},
   "outputs": [
    {
     "name": "stdout",
     "output_type": "stream",
     "text": [
      " On average, the Moon moves 4cm away from the Earth every year\n",
      " \n",
      "The highest daylight temperature of the Moon is 127 Celsius\n"
     ]
    }
   ],
   "source": [
    "for oracion in text2 :\n",
    "    for palabra in palabras_clave:\n",
    "        if palabra in oracion:\n",
    "            \n",
    "            print(oracion.replace(\" C\", \" Celsius\"))"
   ]
  },
  {
   "cell_type": "code",
   "execution_count": 85,
   "metadata": {},
   "outputs": [],
   "source": [
    "# Datos con los que vas a trabajar\n",
    "nombre = \"Moon\"\n",
    "gravedad = 0.00162 # in kms\n",
    "planeta = \"Earth\""
   ]
  },
  {
   "cell_type": "code",
   "execution_count": 86,
   "metadata": {},
   "outputs": [],
   "source": [
    "titulo=f\"datos de la gravedad de {nombre}\".title()"
   ]
  },
  {
   "cell_type": "code",
   "execution_count": 87,
   "metadata": {},
   "outputs": [],
   "source": [
    "plantilla=f\"\"\"Nombre del planeta: {planeta}\n",
    "Gravedad en {nombre}: {gravedad*1000} m/s^2\"\"\"\n",
    "\n",
    "guiones=0\n",
    "for i in range(len(plantilla.split(\"\\n\"))):\n",
    "    if(len(plantilla.split(\"\\n\")[i]) > guiones):\n",
    "        guiones=len(plantilla.split(\"\\n\")[i])\n",
    "\n",
    "plantilla=\"-\"*guiones+\"\\n\"+plantilla\n"
   ]
  },
  {
   "cell_type": "code",
   "execution_count": 88,
   "metadata": {},
   "outputs": [],
   "source": [
    "planeta = 'Marte '\n",
    "gravedad  = 0.00143\n",
    "nombre = 'Ganímedes'"
   ]
  },
  {
   "cell_type": "code",
   "execution_count": 89,
   "metadata": {},
   "outputs": [
    {
     "name": "stdout",
     "output_type": "stream",
     "text": [
      "Datos De La Gravedad De Moon\n",
      "------------------------------------------\n",
      "Nombre del planeta: Earth\n",
      "Gravedad en Moon: 1.6199999999999999 m/s^2\n"
     ]
    }
   ],
   "source": [
    "union=f\"\"\"{titulo}\n",
    "{plantilla}\"\"\"\n",
    "\n",
    "print(union)"
   ]
  },
  {
   "cell_type": "code",
   "execution_count": 90,
   "metadata": {},
   "outputs": [
    {
     "name": "stdout",
     "output_type": "stream",
     "text": [
      "Datos De La Gravedad De Ganímedes\n",
      "------------------------------------------\n",
      "Nombre del planeta: Marte \n",
      "Gravedad en Ganímedes: 1.4300000000000002 m/s^2\n"
     ]
    }
   ],
   "source": [
    "todo_junto=\"datos de la gravedad de \".title()+f\"\"\"{nombre}\n",
    "\"\"\"+\"-\"*guiones+\"\\n\"+f\"\"\"Nombre del planeta: {planeta}\n",
    "Gravedad en {nombre}: {gravedad*1000} m/s^2\"\"\"\n",
    "\n",
    "print(todo_junto.format(nombre=\"Ganímedes\",gravedad=0.00143,planeta=\"Marte\"))"
   ]
  },
  {
   "cell_type": "markdown",
   "metadata": {},
   "source": [
    "#KATA 5\n",
    "Operaciones matemáticas"
   ]
  },
  {
   "cell_type": "code",
   "execution_count": 54,
   "metadata": {},
   "outputs": [],
   "source": [
    "# Crear variables para almacenar las dos distancias: Tierra (149.597.870 km) y Júpiter (778.547.200 km)\n",
    "# ¡Asegúrate de quitar las comas!\n",
    "\n",
    "tierra=149597870 #km\n",
    "jupiter=778547200 #km"
   ]
  },
  {
   "cell_type": "code",
   "execution_count": 55,
   "metadata": {},
   "outputs": [
    {
     "name": "stdout",
     "output_type": "stream",
     "text": [
      "628949330  km\n",
      "390810995.0389724  millas\n"
     ]
    }
   ],
   "source": [
    "# Calcular la distancia entre planetas\n",
    "\n",
    "distanciar=max([jupiter,tierra])-min([jupiter,tierra])\n",
    "\n",
    "milla=1.609344 #km\n",
    "\n",
    "print(distanciar, \" km\")\n",
    "\n",
    "print(distanciar/milla, \" millas\")"
   ]
  },
  {
   "cell_type": "code",
   "execution_count": 97,
   "metadata": {},
   "outputs": [
    {
     "name": "stdout",
     "output_type": "stream",
     "text": [
      "50300000.0  km\n",
      "31254970.969537895  millas\n"
     ]
    }
   ],
   "source": [
    "# Almacenar las entradas del usuario\n",
    "#Pista: variable = input(\"¿Cuál es tu nombre?\")\n",
    "\n",
    "plnt1=float(input(\"Ingresar distancia entre planeta 1 y el sol: \"))\n",
    "\n",
    "plnt2=float(input(\"Ingresar distancia entre planeta 2 y el sol: \"))\n",
    "\n",
    "dist=abs(plnt1-plnt2)\n",
    "\n",
    "print(dist, \" km\")\n",
    "\n",
    "print(dist/millas, \" millas\")\n",
    "\n"
   ]
  },
  {
   "cell_type": "markdown",
   "metadata": {},
   "source": [
    "#KATA 6 \n",
    "Listas"
   ]
  },
  {
   "cell_type": "code",
   "execution_count": 100,
   "metadata": {},
   "outputs": [
    {
     "name": "stdout",
     "output_type": "stream",
     "text": [
      "['Mercurio', 'Venus', 'Tierra', 'Marte', 'Júpiter', 'Saturno', 'Urano', 'Neptruno']\n"
     ]
    }
   ],
   "source": [
    "planets=[\"Mercurio\",\"Venus\",\"Tierra\",\"Marte\",\"Júpiter\",\"Saturno\",\"Urano\",\"Neptruno\"]\n",
    "print(planets)"
   ]
  },
  {
   "cell_type": "code",
   "execution_count": 102,
   "metadata": {},
   "outputs": [
    {
     "name": "stdout",
     "output_type": "stream",
     "text": [
      "Plutón ya no es un planeta\n"
     ]
    }
   ],
   "source": [
    "planets.append(\"Plutón\")\n",
    "\n",
    "print(planets[-1], \"ya no es un planeta\")"
   ]
  },
  {
   "cell_type": "code",
   "execution_count": 103,
   "metadata": {},
   "outputs": [],
   "source": [
    "# Lista de planetas\n",
    "planets = ['Mercurio', 'Venus', 'Tierra', 'Marte', 'Jupiter', 'Saturno', \"Urano\", 'Neptuno']"
   ]
  },
  {
   "cell_type": "code",
   "execution_count": 104,
   "metadata": {},
   "outputs": [],
   "source": [
    "planeta=input(\"Introducir nombre de planeta: \")\n",
    "indice=planets.index(planeta)"
   ]
  },
  {
   "cell_type": "code",
   "execution_count": 105,
   "metadata": {},
   "outputs": [
    {
     "name": "stdout",
     "output_type": "stream",
     "text": [
      "['Mercurio', 'Venus', 'Tierra', 'Marte']\n"
     ]
    }
   ],
   "source": [
    "print(planets[0:indice])"
   ]
  },
  {
   "cell_type": "code",
   "execution_count": 106,
   "metadata": {},
   "outputs": [
    {
     "name": "stdout",
     "output_type": "stream",
     "text": [
      "['Saturno', 'Urano', 'Neptuno']\n"
     ]
    }
   ],
   "source": [
    "print(planets[indice+1:])"
   ]
  },
  {
   "cell_type": "markdown",
   "metadata": {},
   "source": [
    "#KATA 7 Estructuras de control"
   ]
  },
  {
   "cell_type": "code",
   "execution_count": 11,
   "metadata": {},
   "outputs": [],
   "source": [
    "# Declara dos variables\n",
    "new_planet=None\n",
    "planets=[]\n",
    "cont=0\n",
    "while True:\n",
    "    if new_planet.lower()==\"done\":\n",
    "        break\n",
    "    elif not new_planet and cont!=0:\n",
    "        print(\"No se introdujo nada\")\n",
    "    else:\n",
    "        planets.append(new_planet)\n",
    "    new_planet=input(\"Ingresar planeta: \")\n",
    "    cont+=1\n",
    "planets.remove(None)"
   ]
  },
  {
   "cell_type": "code",
   "execution_count": 13,
   "metadata": {},
   "outputs": [
    {
     "name": "stdout",
     "output_type": "stream",
     "text": [
      "mercurio\n",
      "venus\n",
      "tierra\n",
      "marte\n",
      "jupiter\n"
     ]
    }
   ],
   "source": [
    "for i in planets:\n",
    "    print(i)"
   ]
  },
  {
   "cell_type": "markdown",
   "metadata": {},
   "source": [
    "#KATA 8 Administrar diccionarios\n"
   ]
  },
  {
   "cell_type": "code",
   "execution_count": 15,
   "metadata": {},
   "outputs": [],
   "source": [
    "# Crea un diccionario llamado planet con los datos propuestos\n",
    "planet={\"name\": \"Mars\" , \"moons\": 2}"
   ]
  },
  {
   "cell_type": "code",
   "execution_count": 16,
   "metadata": {},
   "outputs": [
    {
     "name": "stdout",
     "output_type": "stream",
     "text": [
      "El planeta Mars tiene 2 lunas\n"
     ]
    }
   ],
   "source": [
    "print(\"El planeta {} tiene {} lunas\".format(planet[\"name\"],planet[\"moons\"]))"
   ]
  },
  {
   "cell_type": "code",
   "execution_count": 20,
   "metadata": {},
   "outputs": [],
   "source": [
    "planet[\"circunferencia(km)\"]={\"polar\": 6752,\"equatorial\": 6792}"
   ]
  },
  {
   "cell_type": "code",
   "execution_count": 21,
   "metadata": {},
   "outputs": [
    {
     "name": "stdout",
     "output_type": "stream",
     "text": [
      "El planeta Mars tiene una circunferencia polar de 6752 km\n"
     ]
    }
   ],
   "source": [
    "print(\"El planeta {} tiene una circunferencia polar de {} km\".format(planet[\"name\"],planet[\"circunferencia(km)\"][\"polar\"]))"
   ]
  },
  {
   "cell_type": "code",
   "execution_count": 22,
   "metadata": {},
   "outputs": [],
   "source": [
    "# Planets and moons\n",
    "\n",
    "planet_moons = {\n",
    "    'mercury': 0,\n",
    "    'venus': 0,\n",
    "    'earth': 1,\n",
    "    'mars': 2,\n",
    "    'jupiter': 79,\n",
    "    'saturn': 82,\n",
    "    'uranus': 27,\n",
    "    'neptune': 14,\n",
    "    'pluto': 5,\n",
    "    'haumea': 2,\n",
    "    'makemake': 1,\n",
    "    'eris': 1\n",
    "}\n",
    "\n",
    "moons=planet_moons.values()\n",
    "planets=len(planet_moons.keys())\n"
   ]
  },
  {
   "cell_type": "code",
   "execution_count": 23,
   "metadata": {},
   "outputs": [
    {
     "name": "stdout",
     "output_type": "stream",
     "text": [
      "La cantidad de lunas es  214\n",
      "El promedio de lunas es  17.833333333333332\n"
     ]
    }
   ],
   "source": [
    "total_moons=0\n",
    "for i in moons:\n",
    "    total_moons+=i\n",
    "\n",
    "prom=total_moons/planets\n",
    "\n",
    "print(\"La cantidad de lunas es \", total_moons)\n",
    "print(\"El promedio de lunas es \",prom)"
   ]
  },
  {
   "cell_type": "markdown",
   "metadata": {},
   "source": [
    "#KATA 9 Funciones"
   ]
  },
  {
   "cell_type": "code",
   "execution_count": 28,
   "metadata": {},
   "outputs": [],
   "source": [
    "def info_tanques(tanq1,tanq2,tanq3):\n",
    "    prom=(tanq1+tanq2+tanq3)/3\n",
    "    return \"El promedio de los tanques es {}({} tanque 1, {} tanque 2,{} tanque 3)\".format(prom,tanq1/prom,tanq2/prom,tanq3/prom)"
   ]
  },
  {
   "cell_type": "code",
   "execution_count": 29,
   "metadata": {},
   "outputs": [
    {
     "name": "stdout",
     "output_type": "stream",
     "text": [
      "El promedio de los tanques es 3.0(1.0 tanque 1, 1.0 tanque 2,1.0 tanque 3)\n"
     ]
    }
   ],
   "source": [
    "print(info_tanques(3,3,3))"
   ]
  },
  {
   "cell_type": "code",
   "execution_count": 46,
   "metadata": {},
   "outputs": [
    {
     "name": "stdout",
     "output_type": "stream",
     "text": [
      "4.0\n"
     ]
    }
   ],
   "source": [
    "def prom(*args):\n",
    "    prom=0\n",
    "    for i in args:\n",
    "        prom=i/len(args)+prom\n",
    "\n",
    "    return prom\n",
    "    "
   ]
  },
  {
   "cell_type": "code",
   "execution_count": 49,
   "metadata": {},
   "outputs": [],
   "source": [
    "def info_tanques(tanq1,tanq2,tanq3):\n",
    "    return \"El promedio de los tanques es {}({} tanque 1, {} tanque 2,{} tanque 3)\".format(prom(tanq1,tanq2,tanq3),\n",
    "    tanq1,tanq2,tanq3)"
   ]
  },
  {
   "cell_type": "code",
   "execution_count": 50,
   "metadata": {},
   "outputs": [
    {
     "name": "stdout",
     "output_type": "stream",
     "text": [
      "El promedio de los tanques es 150.0(100 tanque 1, 200 tanque 2,150 tanque 3)\n"
     ]
    }
   ],
   "source": [
    "print(info_tanques(100,200,150))"
   ]
  },
  {
   "cell_type": "code",
   "execution_count": 4,
   "metadata": {},
   "outputs": [
    {
     "name": "stdout",
     "output_type": "stream",
     "text": [
      "La hora de prelanzamiento son las 500 horas, \n",
      "el tiempo estimado de vuelo es 5 horas,\n",
      "el destino es Las Vegas, el tanque exterior \n",
      "tiene 50 litros y el interior tiene 75. Total de combustible 125 litros\n"
     ]
    }
   ],
   "source": [
    "# Función con un informe preciso de la misión. Considera hora de prelanzamiento, tiempo de vuelo, destino, tanque externo y tanque interno\n",
    "def reporte(hora_pre,t_vuelo,destino,tanque_ex,tanque_in):\n",
    "    return \"\"\"La hora de prelanzamiento son las {} horas, \n",
    "el tiempo estimado de vuelo es {} horas,\n",
    "el destino es {}, el tanque exterior \n",
    "tiene {} litros y el interior tiene {}. Total de combustible {} litros\"\"\".format(hora_pre,t_vuelo,destino,tanque_ex,tanque_in,tanque_ex+tanque_in)\n",
    "\n",
    "print(reporte(500, 5, \"Las Vegas\", 50,75))"
   ]
  },
  {
   "cell_type": "code",
   "execution_count": 10,
   "metadata": {},
   "outputs": [
    {
     "name": "stdout",
     "output_type": "stream",
     "text": [
      "La hora de prelanzamiento son las 500 horas, \n",
      "el tiempo estimado de vuelo es 45 horas,\n",
      "el destino es La escuelita.\n",
      "Total de combustible 51 litros\n"
     ]
    }
   ],
   "source": [
    "def reporte(hora_pre,destino,*tiempo,**tanques):\n",
    "    return \"\"\"La hora de prelanzamiento son las {} horas, \n",
    "el tiempo estimado de vuelo es {} horas,\n",
    "el destino es {}.\n",
    "Total de combustible {} litros\"\"\".format(hora_pre,sum(tiempo),destino,sum(tanques.values()))\n",
    "\n",
    "print(reporte(500, \"La escuelita\", 14,15,16,principal=15,secundario=16,terciario=17,de_emergencia=3))"
   ]
  },
  {
   "cell_type": "code",
   "execution_count": 18,
   "metadata": {},
   "outputs": [
    {
     "name": "stdout",
     "output_type": "stream",
     "text": [
      "La hora de prelanzamiento son las 500 horas, \n",
      "el tiempo estimado de vuelo es 45 horas,\n",
      "el destino es La escuelita parte 2.\n",
      "Total de combustible 51 litros\n",
      "el tanque principal contiene 15 litros \n",
      "el tanque secundario contiene 16 litros \n",
      "el tanque terciario contiene 17 litros \n",
      "el tanque de_emergencia contiene 3 litros \n",
      "\n"
     ]
    }
   ],
   "source": [
    "def reporte(hora_pre,destino,*tiempo,**tanques):\n",
    "    reporte= \"\"\"La hora de prelanzamiento son las {} horas, \n",
    "el tiempo estimado de vuelo es {} horas,\n",
    "el destino es {}.\n",
    "Total de combustible {} litros\\n\"\"\".format(hora_pre,sum(tiempo),destino,sum(tanques.values()))\n",
    "    for i,j in tanques.items():\n",
    "        reporte+=\"el tanque {} contiene {} litros \\n\".format(str(i),str(j))\n",
    "    return reporte\n",
    "\n",
    "print(reporte(500, \"La escuelita parte 2\", 14,15,16,principal=15,secundario=16,terciario=17,de_emergencia=3))"
   ]
  },
  {
   "cell_type": "markdown",
   "metadata": {},
   "source": [
    "#KATA 10 Manejo de errores  "
   ]
  },
  {
   "cell_type": "code",
   "execution_count": 25,
   "metadata": {},
   "outputs": [
    {
     "ename": "FileNotFoundError",
     "evalue": "[Errno 2] No such file or directory: '/path/to/mars.jpg'",
     "output_type": "error",
     "traceback": [
      "\u001b[1;31m---------------------------------------------------------------------------\u001b[0m",
      "\u001b[1;31mFileNotFoundError\u001b[0m                         Traceback (most recent call last)",
      "\u001b[1;32md:\\LaunchX\\ship-manual.ipynb Cell 56'\u001b[0m in \u001b[0;36m<module>\u001b[1;34m\u001b[0m\n\u001b[0;32m      <a href='vscode-notebook-cell:/d%3A/LaunchX/ship-manual.ipynb#ch0000054?line=1'>2</a>\u001b[0m     \u001b[39mopen\u001b[39m(\u001b[39m\"\u001b[39m\u001b[39m/path/to/mars.jpg\u001b[39m\u001b[39m\"\u001b[39m)\n\u001b[0;32m      <a href='vscode-notebook-cell:/d%3A/LaunchX/ship-manual.ipynb#ch0000054?line=3'>4</a>\u001b[0m \u001b[39mif\u001b[39;00m \u001b[39m__name__\u001b[39m\u001b[39m==\u001b[39m\u001b[39m\"\u001b[39m\u001b[39m__main__\u001b[39m\u001b[39m\"\u001b[39m:\n\u001b[1;32m----> <a href='vscode-notebook-cell:/d%3A/LaunchX/ship-manual.ipynb#ch0000054?line=4'>5</a>\u001b[0m     main()\n",
      "\u001b[1;32md:\\LaunchX\\ship-manual.ipynb Cell 56'\u001b[0m in \u001b[0;36mmain\u001b[1;34m()\u001b[0m\n\u001b[0;32m      <a href='vscode-notebook-cell:/d%3A/LaunchX/ship-manual.ipynb#ch0000054?line=0'>1</a>\u001b[0m \u001b[39mdef\u001b[39;00m \u001b[39mmain\u001b[39m():\n\u001b[1;32m----> <a href='vscode-notebook-cell:/d%3A/LaunchX/ship-manual.ipynb#ch0000054?line=1'>2</a>\u001b[0m     \u001b[39mopen\u001b[39;49m(\u001b[39m\"\u001b[39;49m\u001b[39m/path/to/mars.jpg\u001b[39;49m\u001b[39m\"\u001b[39;49m)\n",
      "\u001b[1;31mFileNotFoundError\u001b[0m: [Errno 2] No such file or directory: '/path/to/mars.jpg'"
     ]
    }
   ],
   "source": [
    "def main():\n",
    "    open(\"/path/to/mars.jpg\")\n",
    "    \n",
    "if __name__==\"__main__\":\n",
    "    main()"
   ]
  },
  {
   "cell_type": "code",
   "execution_count": 26,
   "metadata": {},
   "outputs": [
    {
     "name": "stdout",
     "output_type": "stream",
     "text": [
      "No existe el archivo\n"
     ]
    }
   ],
   "source": [
    "def main():\n",
    "    try:\n",
    "        open(\"config.txt\")\n",
    "    except FileNotFoundError:\n",
    "        print(\"No existe el archivo\")\n",
    "        \n",
    "if __name__==\"__main__\":\n",
    "    main()"
   ]
  },
  {
   "cell_type": "code",
   "execution_count": 37,
   "metadata": {},
   "outputs": [],
   "source": [
    "def main():\n",
    "    try:\n",
    "        configuration = open('config.txt')\n",
    "    except FileNotFoundError:\n",
    "        print(\"No existe el archivo\")\n",
    "    except PermissionError as err:\n",
    "        print(\"No es posible leer, no se obtuvo permiso:\",err)"
   ]
  },
  {
   "cell_type": "code",
   "execution_count": 38,
   "metadata": {},
   "outputs": [
    {
     "name": "stdout",
     "output_type": "stream",
     "text": [
      "No es posible leer, no se obtuvo permiso: [Errno 13] Permission denied: 'config.txt'\n"
     ]
    }
   ],
   "source": [
    "if __name__==\"__main__\":\n",
    "    main()"
   ]
  },
  {
   "cell_type": "code",
   "execution_count": 42,
   "metadata": {},
   "outputs": [
    {
     "ename": "ValueError",
     "evalue": "El numero introducido no pertenece a los positivos",
     "output_type": "error",
     "traceback": [
      "\u001b[1;31m---------------------------------------------------------------------------\u001b[0m",
      "\u001b[1;31mValueError\u001b[0m                                Traceback (most recent call last)",
      "\u001b[1;32md:\\LaunchX\\ship-manual.ipynb Cell 60'\u001b[0m in \u001b[0;36m<module>\u001b[1;34m\u001b[0m\n\u001b[0;32m      <a href='vscode-notebook-cell:/d%3A/LaunchX/ship-manual.ipynb#ch0000059?line=2'>3</a>\u001b[0m         \u001b[39mraise\u001b[39;00m \u001b[39mValueError\u001b[39;00m(\u001b[39m\"\u001b[39m\u001b[39mEl numero introducido no pertenece a los positivos\u001b[39m\u001b[39m\"\u001b[39m)\n\u001b[0;32m      <a href='vscode-notebook-cell:/d%3A/LaunchX/ship-manual.ipynb#ch0000059?line=3'>4</a>\u001b[0m     \u001b[39mreturn\u001b[39;00m \u001b[39mstr\u001b[39m(num)\n\u001b[1;32m----> <a href='vscode-notebook-cell:/d%3A/LaunchX/ship-manual.ipynb#ch0000059?line=5'>6</a>\u001b[0m \u001b[39mprint\u001b[39m(num_pos(\u001b[39m-\u001b[39;49m\u001b[39m5\u001b[39;49m))\n",
      "\u001b[1;32md:\\LaunchX\\ship-manual.ipynb Cell 60'\u001b[0m in \u001b[0;36mnum_pos\u001b[1;34m(num)\u001b[0m\n\u001b[0;32m      <a href='vscode-notebook-cell:/d%3A/LaunchX/ship-manual.ipynb#ch0000059?line=0'>1</a>\u001b[0m \u001b[39mdef\u001b[39;00m \u001b[39mnum_pos\u001b[39m(num):\n\u001b[0;32m      <a href='vscode-notebook-cell:/d%3A/LaunchX/ship-manual.ipynb#ch0000059?line=1'>2</a>\u001b[0m     \u001b[39mif\u001b[39;00m num\u001b[39m<\u001b[39m\u001b[39m0\u001b[39m:\n\u001b[1;32m----> <a href='vscode-notebook-cell:/d%3A/LaunchX/ship-manual.ipynb#ch0000059?line=2'>3</a>\u001b[0m         \u001b[39mraise\u001b[39;00m \u001b[39mValueError\u001b[39;00m(\u001b[39m\"\u001b[39m\u001b[39mEl numero introducido no pertenece a los positivos\u001b[39m\u001b[39m\"\u001b[39m)\n\u001b[0;32m      <a href='vscode-notebook-cell:/d%3A/LaunchX/ship-manual.ipynb#ch0000059?line=3'>4</a>\u001b[0m     \u001b[39mreturn\u001b[39;00m \u001b[39mstr\u001b[39m(num)\n",
      "\u001b[1;31mValueError\u001b[0m: El numero introducido no pertenece a los positivos"
     ]
    }
   ],
   "source": [
    "def num_pos(num):\n",
    "    if num<0:\n",
    "        raise ValueError(\"El numero introducido no pertenece a los positivos\")\n",
    "    return str(num)\n",
    "\n",
    "print(num_pos(-5))"
   ]
  },
  {
   "cell_type": "code",
   "execution_count": 43,
   "metadata": {},
   "outputs": [
    {
     "name": "stdout",
     "output_type": "stream",
     "text": [
      "5\n"
     ]
    }
   ],
   "source": [
    "print(num_pos(5))"
   ]
  }
 ],
 "metadata": {
  "interpreter": {
   "hash": "0d008810b9c8467bcb3ca39aa2180e5b81b3a9acb136aab30d47954377cc5120"
  },
  "kernelspec": {
   "display_name": "Python 3.9.4 64-bit",
   "language": "python",
   "name": "python3"
  },
  "language_info": {
   "codemirror_mode": {
    "name": "ipython",
    "version": 3
   },
   "file_extension": ".py",
   "mimetype": "text/x-python",
   "name": "python",
   "nbconvert_exporter": "python",
   "pygments_lexer": "ipython3",
   "version": "3.9.4"
  },
  "orig_nbformat": 4
 },
 "nbformat": 4,
 "nbformat_minor": 2
}
